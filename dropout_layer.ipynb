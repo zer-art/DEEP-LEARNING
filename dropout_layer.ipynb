{
 "cells": [
  {
   "cell_type": "markdown",
   "id": "1e64f5f7",
   "metadata": {},
   "source": [
    "# UNDERSTANDING ADVANTAGE OF DROPOUT LAYER"
   ]
  },
  {
   "cell_type": "code",
   "execution_count": 1,
   "id": "9b50063a",
   "metadata": {},
   "outputs": [],
   "source": [
    "import numpy as np \n",
    "import pandas as pd \n"
   ]
  },
  {
   "cell_type": "markdown",
   "id": "854d3870",
   "metadata": {},
   "source": []
  }
 ],
 "metadata": {
  "kernelspec": {
   "display_name": "dl",
   "language": "python",
   "name": "python3"
  },
  "language_info": {
   "codemirror_mode": {
    "name": "ipython",
    "version": 3
   },
   "file_extension": ".py",
   "mimetype": "text/x-python",
   "name": "python",
   "nbconvert_exporter": "python",
   "pygments_lexer": "ipython3",
   "version": "3.12.0"
  }
 },
 "nbformat": 4,
 "nbformat_minor": 5
}
